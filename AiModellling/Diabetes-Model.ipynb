{
 "cells": [
  {
   "cell_type": "code",
   "execution_count": 1,
   "metadata": {},
   "outputs": [
    {
     "name": "stderr",
     "output_type": "stream",
     "text": [
      "Using TensorFlow backend.\n",
      "/home/erichuman/anaconda3/lib/python3.6/site-packages/tensorflow/python/framework/dtypes.py:526: FutureWarning: Passing (type, 1) or '1type' as a synonym of type is deprecated; in a future version of numpy, it will be understood as (type, (1,)) / '(1,)type'.\n",
      "  _np_qint8 = np.dtype([(\"qint8\", np.int8, 1)])\n",
      "/home/erichuman/anaconda3/lib/python3.6/site-packages/tensorflow/python/framework/dtypes.py:527: FutureWarning: Passing (type, 1) or '1type' as a synonym of type is deprecated; in a future version of numpy, it will be understood as (type, (1,)) / '(1,)type'.\n",
      "  _np_quint8 = np.dtype([(\"quint8\", np.uint8, 1)])\n",
      "/home/erichuman/anaconda3/lib/python3.6/site-packages/tensorflow/python/framework/dtypes.py:528: FutureWarning: Passing (type, 1) or '1type' as a synonym of type is deprecated; in a future version of numpy, it will be understood as (type, (1,)) / '(1,)type'.\n",
      "  _np_qint16 = np.dtype([(\"qint16\", np.int16, 1)])\n",
      "/home/erichuman/anaconda3/lib/python3.6/site-packages/tensorflow/python/framework/dtypes.py:529: FutureWarning: Passing (type, 1) or '1type' as a synonym of type is deprecated; in a future version of numpy, it will be understood as (type, (1,)) / '(1,)type'.\n",
      "  _np_quint16 = np.dtype([(\"quint16\", np.uint16, 1)])\n",
      "/home/erichuman/anaconda3/lib/python3.6/site-packages/tensorflow/python/framework/dtypes.py:530: FutureWarning: Passing (type, 1) or '1type' as a synonym of type is deprecated; in a future version of numpy, it will be understood as (type, (1,)) / '(1,)type'.\n",
      "  _np_qint32 = np.dtype([(\"qint32\", np.int32, 1)])\n",
      "/home/erichuman/anaconda3/lib/python3.6/site-packages/tensorflow/python/framework/dtypes.py:535: FutureWarning: Passing (type, 1) or '1type' as a synonym of type is deprecated; in a future version of numpy, it will be understood as (type, (1,)) / '(1,)type'.\n",
      "  np_resource = np.dtype([(\"resource\", np.ubyte, 1)])\n"
     ]
    },
    {
     "data": {
      "text/plain": [
       "Ellipsis"
      ]
     },
     "execution_count": 1,
     "metadata": {},
     "output_type": "execute_result"
    }
   ],
   "source": [
    "# first neural network with keras tutorial\n",
    "from numpy import loadtxt\n",
    "from keras.models import Sequential\n",
    "from keras.layers import Dense\n",
    "..."
   ]
  },
  {
   "cell_type": "code",
   "execution_count": 2,
   "metadata": {},
   "outputs": [
    {
     "data": {
      "text/plain": [
       "Ellipsis"
      ]
     },
     "execution_count": 2,
     "metadata": {},
     "output_type": "execute_result"
    }
   ],
   "source": [
    "...\n",
    "# load the dataset\n",
    "dataset = loadtxt('Diabetes.csv', delimiter=',')\n",
    "# split into input (X) and output (y) variables\n",
    "X = dataset[:,0:8]\n",
    "y = dataset[:,8]\n",
    "..."
   ]
  },
  {
   "cell_type": "code",
   "execution_count": 3,
   "metadata": {},
   "outputs": [
    {
     "name": "stdout",
     "output_type": "stream",
     "text": [
      "WARNING:tensorflow:From /home/erichuman/anaconda3/lib/python3.6/site-packages/tensorflow/python/ops/resource_variable_ops.py:435: colocate_with (from tensorflow.python.framework.ops) is deprecated and will be removed in a future version.\n",
      "Instructions for updating:\n",
      "Colocations handled automatically by placer.\n"
     ]
    },
    {
     "data": {
      "text/plain": [
       "Ellipsis"
      ]
     },
     "execution_count": 3,
     "metadata": {},
     "output_type": "execute_result"
    }
   ],
   "source": [
    "...\n",
    "# define the keras model\n",
    "model = Sequential()\n",
    "model.add(Dense(12, input_dim=8, activation='relu'))\n",
    "#model.add(Dense(10, activation='relu'))\n",
    "model.add(Dense(8, activation='relu'))\n",
    "model.add(Dense(1, activation='sigmoid'))\n",
    "..."
   ]
  },
  {
   "cell_type": "code",
   "execution_count": 4,
   "metadata": {},
   "outputs": [
    {
     "data": {
      "text/plain": [
       "Ellipsis"
      ]
     },
     "execution_count": 4,
     "metadata": {},
     "output_type": "execute_result"
    }
   ],
   "source": [
    "...\n",
    "# compile the keras model\n",
    "model.compile(loss='binary_crossentropy', optimizer='adam', metrics=['accuracy'])\n",
    "..."
   ]
  },
  {
   "cell_type": "code",
   "execution_count": 11,
   "metadata": {},
   "outputs": [
    {
     "name": "stdout",
     "output_type": "stream",
     "text": [
      "Epoch 1/150\n",
      "768/768 [==============================] - 0s 166us/step - loss: 0.4185 - accuracy: 0.8255\n",
      "Epoch 2/150\n",
      "768/768 [==============================] - 0s 181us/step - loss: 0.4226 - accuracy: 0.7982\n",
      "Epoch 3/150\n",
      "768/768 [==============================] - 0s 165us/step - loss: 0.4227 - accuracy: 0.8112\n",
      "Epoch 4/150\n",
      "768/768 [==============================] - 0s 177us/step - loss: 0.4246 - accuracy: 0.8242\n",
      "Epoch 5/150\n",
      "768/768 [==============================] - 0s 180us/step - loss: 0.4114 - accuracy: 0.8138\n",
      "Epoch 6/150\n",
      "768/768 [==============================] - 0s 186us/step - loss: 0.4179 - accuracy: 0.8008\n",
      "Epoch 7/150\n",
      "768/768 [==============================] - 0s 489us/step - loss: 0.4234 - accuracy: 0.8047\n",
      "Epoch 8/150\n",
      "768/768 [==============================] - 1s 702us/step - loss: 0.4144 - accuracy: 0.8151\n",
      "Epoch 9/150\n",
      "768/768 [==============================] - 0s 456us/step - loss: 0.4288 - accuracy: 0.8112\n",
      "Epoch 10/150\n",
      "768/768 [==============================] - 0s 277us/step - loss: 0.4243 - accuracy: 0.8125\n",
      "Epoch 11/150\n",
      "768/768 [==============================] - 0s 344us/step - loss: 0.4206 - accuracy: 0.8164\n",
      "Epoch 12/150\n",
      "768/768 [==============================] - 0s 230us/step - loss: 0.4167 - accuracy: 0.8138\n",
      "Epoch 13/150\n",
      "768/768 [==============================] - 0s 139us/step - loss: 0.4278 - accuracy: 0.8021\n",
      "Epoch 14/150\n",
      "768/768 [==============================] - 0s 152us/step - loss: 0.4219 - accuracy: 0.8151\n",
      "Epoch 15/150\n",
      "768/768 [==============================] - 0s 171us/step - loss: 0.4090 - accuracy: 0.8203\n",
      "Epoch 16/150\n",
      "768/768 [==============================] - 0s 163us/step - loss: 0.4192 - accuracy: 0.8073\n",
      "Epoch 17/150\n",
      "768/768 [==============================] - 0s 157us/step - loss: 0.4178 - accuracy: 0.8073\n",
      "Epoch 18/150\n",
      "768/768 [==============================] - 0s 130us/step - loss: 0.4218 - accuracy: 0.8073\n",
      "Epoch 19/150\n",
      "768/768 [==============================] - 0s 146us/step - loss: 0.4192 - accuracy: 0.8008\n",
      "Epoch 20/150\n",
      "768/768 [==============================] - 0s 162us/step - loss: 0.4206 - accuracy: 0.8008\n",
      "Epoch 21/150\n",
      "768/768 [==============================] - 0s 136us/step - loss: 0.4220 - accuracy: 0.8086\n",
      "Epoch 22/150\n",
      "768/768 [==============================] - 0s 144us/step - loss: 0.4103 - accuracy: 0.8190\n",
      "Epoch 23/150\n",
      "768/768 [==============================] - 0s 151us/step - loss: 0.4185 - accuracy: 0.8177\n",
      "Epoch 24/150\n",
      "768/768 [==============================] - 0s 131us/step - loss: 0.4226 - accuracy: 0.7969\n",
      "Epoch 25/150\n",
      "768/768 [==============================] - 0s 144us/step - loss: 0.4117 - accuracy: 0.8177\n",
      "Epoch 26/150\n",
      "768/768 [==============================] - 0s 149us/step - loss: 0.4277 - accuracy: 0.8086\n",
      "Epoch 27/150\n",
      "768/768 [==============================] - 0s 159us/step - loss: 0.4253 - accuracy: 0.8164\n",
      "Epoch 28/150\n",
      "768/768 [==============================] - 0s 148us/step - loss: 0.4151 - accuracy: 0.8112\n",
      "Epoch 29/150\n",
      "768/768 [==============================] - 0s 129us/step - loss: 0.4209 - accuracy: 0.8125\n",
      "Epoch 30/150\n",
      "768/768 [==============================] - 0s 155us/step - loss: 0.4239 - accuracy: 0.8112\n",
      "Epoch 31/150\n",
      "768/768 [==============================] - 0s 129us/step - loss: 0.4153 - accuracy: 0.8099\n",
      "Epoch 32/150\n",
      "768/768 [==============================] - 0s 149us/step - loss: 0.4190 - accuracy: 0.8099\n",
      "Epoch 33/150\n",
      "768/768 [==============================] - 0s 154us/step - loss: 0.4077 - accuracy: 0.8268\n",
      "Epoch 34/150\n",
      "768/768 [==============================] - 0s 152us/step - loss: 0.4177 - accuracy: 0.8112\n",
      "Epoch 35/150\n",
      "768/768 [==============================] - 0s 137us/step - loss: 0.4201 - accuracy: 0.8164\n",
      "Epoch 36/150\n",
      "768/768 [==============================] - 0s 147us/step - loss: 0.4136 - accuracy: 0.8151\n",
      "Epoch 37/150\n",
      "768/768 [==============================] - 0s 160us/step - loss: 0.4152 - accuracy: 0.8151\n",
      "Epoch 38/150\n",
      "768/768 [==============================] - 0s 129us/step - loss: 0.4134 - accuracy: 0.8151\n",
      "Epoch 39/150\n",
      "768/768 [==============================] - 0s 134us/step - loss: 0.4137 - accuracy: 0.8138\n",
      "Epoch 40/150\n",
      "768/768 [==============================] - 0s 128us/step - loss: 0.4137 - accuracy: 0.8099\n",
      "Epoch 41/150\n",
      "768/768 [==============================] - 0s 156us/step - loss: 0.4255 - accuracy: 0.7904\n",
      "Epoch 42/150\n",
      "768/768 [==============================] - 0s 135us/step - loss: 0.4124 - accuracy: 0.8177\n",
      "Epoch 43/150\n",
      "768/768 [==============================] - 0s 158us/step - loss: 0.4155 - accuracy: 0.8138\n",
      "Epoch 44/150\n",
      "768/768 [==============================] - 0s 155us/step - loss: 0.4169 - accuracy: 0.8060\n",
      "Epoch 45/150\n",
      "768/768 [==============================] - 0s 342us/step - loss: 0.4234 - accuracy: 0.8255\n",
      "Epoch 46/150\n",
      "768/768 [==============================] - 0s 200us/step - loss: 0.4098 - accuracy: 0.8125\n",
      "Epoch 47/150\n",
      "768/768 [==============================] - 0s 319us/step - loss: 0.4075 - accuracy: 0.8151\n",
      "Epoch 48/150\n",
      "768/768 [==============================] - 0s 314us/step - loss: 0.4218 - accuracy: 0.8073\n",
      "Epoch 49/150\n",
      "768/768 [==============================] - 0s 245us/step - loss: 0.4223 - accuracy: 0.8047\n",
      "Epoch 50/150\n",
      "768/768 [==============================] - 0s 233us/step - loss: 0.4099 - accuracy: 0.8138\n",
      "Epoch 51/150\n",
      "768/768 [==============================] - 0s 186us/step - loss: 0.4144 - accuracy: 0.8138\n",
      "Epoch 52/150\n",
      "768/768 [==============================] - 0s 178us/step - loss: 0.4099 - accuracy: 0.8229\n",
      "Epoch 53/150\n",
      "768/768 [==============================] - 0s 188us/step - loss: 0.4149 - accuracy: 0.8112\n",
      "Epoch 54/150\n",
      "768/768 [==============================] - 0s 194us/step - loss: 0.4203 - accuracy: 0.8151\n",
      "Epoch 55/150\n",
      "768/768 [==============================] - 0s 188us/step - loss: 0.4101 - accuracy: 0.8125\n",
      "Epoch 56/150\n",
      "768/768 [==============================] - 0s 175us/step - loss: 0.4145 - accuracy: 0.7956\n",
      "Epoch 57/150\n",
      "768/768 [==============================] - 0s 157us/step - loss: 0.4128 - accuracy: 0.8112\n",
      "Epoch 58/150\n",
      "768/768 [==============================] - 0s 209us/step - loss: 0.4192 - accuracy: 0.8177\n",
      "Epoch 59/150\n",
      "768/768 [==============================] - 0s 179us/step - loss: 0.4195 - accuracy: 0.8138\n",
      "Epoch 60/150\n",
      "768/768 [==============================] - 0s 225us/step - loss: 0.4231 - accuracy: 0.8112\n",
      "Epoch 61/150\n",
      "768/768 [==============================] - 0s 183us/step - loss: 0.4076 - accuracy: 0.8125\n",
      "Epoch 62/150\n",
      "768/768 [==============================] - 0s 175us/step - loss: 0.4208 - accuracy: 0.8203\n",
      "Epoch 63/150\n",
      "768/768 [==============================] - 0s 173us/step - loss: 0.4096 - accuracy: 0.8164\n",
      "Epoch 64/150\n",
      "768/768 [==============================] - 0s 202us/step - loss: 0.4134 - accuracy: 0.8060\n",
      "Epoch 65/150\n",
      "768/768 [==============================] - 0s 219us/step - loss: 0.4239 - accuracy: 0.8034\n",
      "Epoch 66/150\n",
      "768/768 [==============================] - 0s 189us/step - loss: 0.4149 - accuracy: 0.8073\n",
      "Epoch 67/150\n",
      "768/768 [==============================] - 0s 169us/step - loss: 0.4116 - accuracy: 0.8060\n",
      "Epoch 68/150\n",
      "768/768 [==============================] - 0s 174us/step - loss: 0.4143 - accuracy: 0.8086\n",
      "Epoch 69/150\n",
      "768/768 [==============================] - 0s 223us/step - loss: 0.4104 - accuracy: 0.8242\n",
      "Epoch 70/150\n",
      "768/768 [==============================] - 0s 168us/step - loss: 0.4101 - accuracy: 0.8164\n",
      "Epoch 71/150\n",
      "768/768 [==============================] - 0s 187us/step - loss: 0.4130 - accuracy: 0.8190\n",
      "Epoch 72/150\n",
      "768/768 [==============================] - 0s 215us/step - loss: 0.4137 - accuracy: 0.8099\n",
      "Epoch 73/150\n",
      "768/768 [==============================] - 0s 194us/step - loss: 0.4063 - accuracy: 0.8099\n",
      "Epoch 74/150\n",
      "768/768 [==============================] - 0s 189us/step - loss: 0.4249 - accuracy: 0.8073\n",
      "Epoch 75/150\n",
      "768/768 [==============================] - 0s 183us/step - loss: 0.4108 - accuracy: 0.8216\n",
      "Epoch 76/150\n",
      "768/768 [==============================] - 0s 183us/step - loss: 0.4058 - accuracy: 0.8216\n",
      "Epoch 77/150\n",
      "768/768 [==============================] - 0s 185us/step - loss: 0.4197 - accuracy: 0.8138\n",
      "Epoch 78/150\n",
      "768/768 [==============================] - 0s 191us/step - loss: 0.4116 - accuracy: 0.8112\n",
      "Epoch 79/150\n"
     ]
    },
    {
     "name": "stdout",
     "output_type": "stream",
     "text": [
      "768/768 [==============================] - 0s 189us/step - loss: 0.4206 - accuracy: 0.8138\n",
      "Epoch 80/150\n",
      "768/768 [==============================] - 0s 125us/step - loss: 0.4096 - accuracy: 0.8112\n",
      "Epoch 81/150\n",
      "768/768 [==============================] - 0s 131us/step - loss: 0.4070 - accuracy: 0.8229\n",
      "Epoch 82/150\n",
      "768/768 [==============================] - 0s 120us/step - loss: 0.4081 - accuracy: 0.8138\n",
      "Epoch 83/150\n",
      "768/768 [==============================] - 0s 126us/step - loss: 0.4205 - accuracy: 0.8177\n",
      "Epoch 84/150\n",
      "768/768 [==============================] - 0s 149us/step - loss: 0.4066 - accuracy: 0.8151\n",
      "Epoch 85/150\n",
      "768/768 [==============================] - 0s 152us/step - loss: 0.4065 - accuracy: 0.8229\n",
      "Epoch 86/150\n",
      "768/768 [==============================] - 0s 152us/step - loss: 0.4125 - accuracy: 0.8190\n",
      "Epoch 87/150\n",
      "768/768 [==============================] - 0s 152us/step - loss: 0.4050 - accuracy: 0.8151\n",
      "Epoch 88/150\n",
      "768/768 [==============================] - 0s 181us/step - loss: 0.4114 - accuracy: 0.8177\n",
      "Epoch 89/150\n",
      "768/768 [==============================] - 0s 103us/step - loss: 0.4050 - accuracy: 0.8164\n",
      "Epoch 90/150\n",
      "768/768 [==============================] - 0s 104us/step - loss: 0.4183 - accuracy: 0.8112\n",
      "Epoch 91/150\n",
      "768/768 [==============================] - 0s 110us/step - loss: 0.4183 - accuracy: 0.8099\n",
      "Epoch 92/150\n",
      "768/768 [==============================] - 0s 175us/step - loss: 0.4137 - accuracy: 0.8125\n",
      "Epoch 93/150\n",
      "768/768 [==============================] - 0s 179us/step - loss: 0.4078 - accuracy: 0.8177\n",
      "Epoch 94/150\n",
      "768/768 [==============================] - 0s 160us/step - loss: 0.4042 - accuracy: 0.8164\n",
      "Epoch 95/150\n",
      "768/768 [==============================] - 0s 140us/step - loss: 0.4069 - accuracy: 0.8216\n",
      "Epoch 96/150\n",
      "768/768 [==============================] - 0s 108us/step - loss: 0.4217 - accuracy: 0.8112\n",
      "Epoch 97/150\n",
      "768/768 [==============================] - 0s 173us/step - loss: 0.4051 - accuracy: 0.8151\n",
      "Epoch 98/150\n",
      "768/768 [==============================] - 0s 135us/step - loss: 0.4093 - accuracy: 0.8242\n",
      "Epoch 99/150\n",
      "768/768 [==============================] - 0s 106us/step - loss: 0.4005 - accuracy: 0.8281\n",
      "Epoch 100/150\n",
      "768/768 [==============================] - 0s 106us/step - loss: 0.4066 - accuracy: 0.8086\n",
      "Epoch 101/150\n",
      "768/768 [==============================] - 0s 158us/step - loss: 0.4114 - accuracy: 0.8112\n",
      "Epoch 102/150\n",
      "768/768 [==============================] - 0s 160us/step - loss: 0.3970 - accuracy: 0.8125\n",
      "Epoch 103/150\n",
      "768/768 [==============================] - 0s 103us/step - loss: 0.4072 - accuracy: 0.8255\n",
      "Epoch 104/150\n",
      "768/768 [==============================] - 0s 104us/step - loss: 0.4151 - accuracy: 0.8099\n",
      "Epoch 105/150\n",
      "768/768 [==============================] - 0s 179us/step - loss: 0.4114 - accuracy: 0.8086\n",
      "Epoch 106/150\n",
      "768/768 [==============================] - 0s 134us/step - loss: 0.4070 - accuracy: 0.8060\n",
      "Epoch 107/150\n",
      "768/768 [==============================] - 0s 132us/step - loss: 0.4097 - accuracy: 0.8229\n",
      "Epoch 108/150\n",
      "768/768 [==============================] - 0s 126us/step - loss: 0.4093 - accuracy: 0.8177\n",
      "Epoch 109/150\n",
      "768/768 [==============================] - 0s 123us/step - loss: 0.4104 - accuracy: 0.8190\n",
      "Epoch 110/150\n",
      "768/768 [==============================] - 0s 127us/step - loss: 0.3980 - accuracy: 0.8164\n",
      "Epoch 111/150\n",
      "768/768 [==============================] - 0s 184us/step - loss: 0.4172 - accuracy: 0.8112\n",
      "Epoch 112/150\n",
      "768/768 [==============================] - 0s 102us/step - loss: 0.4080 - accuracy: 0.8034\n",
      "Epoch 113/150\n",
      "768/768 [==============================] - 0s 119us/step - loss: 0.4063 - accuracy: 0.8138\n",
      "Epoch 114/150\n",
      "768/768 [==============================] - 0s 167us/step - loss: 0.4057 - accuracy: 0.8099\n",
      "Epoch 115/150\n",
      "768/768 [==============================] - 0s 105us/step - loss: 0.4020 - accuracy: 0.8177\n",
      "Epoch 116/150\n",
      "768/768 [==============================] - 0s 104us/step - loss: 0.4012 - accuracy: 0.8268\n",
      "Epoch 117/150\n",
      "768/768 [==============================] - 0s 105us/step - loss: 0.4096 - accuracy: 0.8112\n",
      "Epoch 118/150\n",
      "768/768 [==============================] - 0s 104us/step - loss: 0.4019 - accuracy: 0.8060\n",
      "Epoch 119/150\n",
      "768/768 [==============================] - 0s 163us/step - loss: 0.4088 - accuracy: 0.8177\n",
      "Epoch 120/150\n",
      "768/768 [==============================] - 0s 126us/step - loss: 0.4030 - accuracy: 0.8125\n",
      "Epoch 121/150\n",
      "768/768 [==============================] - 0s 105us/step - loss: 0.4031 - accuracy: 0.8138\n",
      "Epoch 122/150\n",
      "768/768 [==============================] - 0s 107us/step - loss: 0.4043 - accuracy: 0.8307\n",
      "Epoch 123/150\n",
      "768/768 [==============================] - 0s 105us/step - loss: 0.4040 - accuracy: 0.8333\n",
      "Epoch 124/150\n",
      "768/768 [==============================] - 0s 122us/step - loss: 0.4069 - accuracy: 0.8216\n",
      "Epoch 125/150\n",
      "768/768 [==============================] - 0s 196us/step - loss: 0.4022 - accuracy: 0.8086\n",
      "Epoch 126/150\n",
      "768/768 [==============================] - 0s 105us/step - loss: 0.4061 - accuracy: 0.8112\n",
      "Epoch 127/150\n",
      "768/768 [==============================] - 0s 146us/step - loss: 0.4079 - accuracy: 0.8073\n",
      "Epoch 128/150\n",
      "768/768 [==============================] - 0s 220us/step - loss: 0.4029 - accuracy: 0.8125\n",
      "Epoch 129/150\n",
      "768/768 [==============================] - 0s 192us/step - loss: 0.4093 - accuracy: 0.8060\n",
      "Epoch 130/150\n",
      "768/768 [==============================] - 0s 140us/step - loss: 0.4047 - accuracy: 0.8164\n",
      "Epoch 131/150\n",
      "768/768 [==============================] - 0s 134us/step - loss: 0.4044 - accuracy: 0.8190\n",
      "Epoch 132/150\n",
      "768/768 [==============================] - 0s 142us/step - loss: 0.3993 - accuracy: 0.8281\n",
      "Epoch 133/150\n",
      "768/768 [==============================] - 0s 123us/step - loss: 0.3975 - accuracy: 0.8242\n",
      "Epoch 134/150\n",
      "768/768 [==============================] - 0s 163us/step - loss: 0.4074 - accuracy: 0.8073\n",
      "Epoch 135/150\n",
      "768/768 [==============================] - 0s 126us/step - loss: 0.3992 - accuracy: 0.8216\n",
      "Epoch 136/150\n",
      "768/768 [==============================] - 0s 196us/step - loss: 0.4064 - accuracy: 0.8138\n",
      "Epoch 137/150\n",
      "768/768 [==============================] - 0s 112us/step - loss: 0.3996 - accuracy: 0.8151\n",
      "Epoch 138/150\n",
      "768/768 [==============================] - 0s 104us/step - loss: 0.4068 - accuracy: 0.8086\n",
      "Epoch 139/150\n",
      "768/768 [==============================] - 0s 138us/step - loss: 0.4023 - accuracy: 0.8203\n",
      "Epoch 140/150\n",
      "768/768 [==============================] - 0s 152us/step - loss: 0.4018 - accuracy: 0.8190\n",
      "Epoch 141/150\n",
      "768/768 [==============================] - 0s 102us/step - loss: 0.4096 - accuracy: 0.8099\n",
      "Epoch 142/150\n",
      "768/768 [==============================] - 0s 108us/step - loss: 0.3973 - accuracy: 0.8203\n",
      "Epoch 143/150\n",
      "768/768 [==============================] - 0s 122us/step - loss: 0.4015 - accuracy: 0.8112\n",
      "Epoch 144/150\n",
      "768/768 [==============================] - 0s 183us/step - loss: 0.3985 - accuracy: 0.8255\n",
      "Epoch 145/150\n",
      "768/768 [==============================] - 0s 104us/step - loss: 0.4110 - accuracy: 0.8099\n",
      "Epoch 146/150\n",
      "768/768 [==============================] - 0s 108us/step - loss: 0.4019 - accuracy: 0.8177\n",
      "Epoch 147/150\n",
      "768/768 [==============================] - 0s 105us/step - loss: 0.4093 - accuracy: 0.8216\n",
      "Epoch 148/150\n",
      "768/768 [==============================] - 0s 106us/step - loss: 0.4088 - accuracy: 0.8125\n",
      "Epoch 149/150\n",
      "768/768 [==============================] - 0s 105us/step - loss: 0.4010 - accuracy: 0.8177\n",
      "Epoch 150/150\n",
      "768/768 [==============================] - 0s 127us/step - loss: 0.4096 - accuracy: 0.8164\n"
     ]
    },
    {
     "data": {
      "text/plain": [
       "Ellipsis"
      ]
     },
     "execution_count": 11,
     "metadata": {},
     "output_type": "execute_result"
    }
   ],
   "source": [
    "...\n",
    "# fit the keras model on the dataset\n",
    "model.fit(X, y, epochs=150, batch_size=10)\n",
    "..."
   ]
  },
  {
   "cell_type": "code",
   "execution_count": 9,
   "metadata": {},
   "outputs": [
    {
     "name": "stdout",
     "output_type": "stream",
     "text": [
      "768/768 [==============================] - 0s 21us/step\n",
      "Accuracy: 80.34\n"
     ]
    }
   ],
   "source": [
    "...\n",
    "# evaluate the keras model\n",
    "_, accuracy = model.evaluate(X, y)\n",
    "print('Accuracy: %.2f' % (accuracy*100))"
   ]
  },
  {
   "cell_type": "code",
   "execution_count": 12,
   "metadata": {},
   "outputs": [
    {
     "name": "stdout",
     "output_type": "stream",
     "text": [
      "Saved to disk\n"
     ]
    }
   ],
   "source": [
    "model.save(\"DiabetesModel.h5\")\n",
    "print(\"Saved to disk\")"
   ]
  },
  {
   "cell_type": "code",
   "execution_count": null,
   "metadata": {},
   "outputs": [],
   "source": []
  }
 ],
 "metadata": {
  "kernelspec": {
   "display_name": "Python 3",
   "language": "python",
   "name": "python3"
  },
  "language_info": {
   "codemirror_mode": {
    "name": "ipython",
    "version": 3
   },
   "file_extension": ".py",
   "mimetype": "text/x-python",
   "name": "python",
   "nbconvert_exporter": "python",
   "pygments_lexer": "ipython3",
   "version": "3.6.9"
  }
 },
 "nbformat": 4,
 "nbformat_minor": 2
}
